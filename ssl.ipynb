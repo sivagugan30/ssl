{
 "cells": [
  {
   "cell_type": "markdown",
   "id": "88d44dc8-f908-4005-9791-2ea997681d51",
   "metadata": {},
   "source": [
    "# Spartan Stuttering Lab"
   ]
  },
  {
   "cell_type": "code",
   "execution_count": 126,
   "id": "0edb60a1-17df-4fab-aab7-a40b9ebb05a7",
   "metadata": {},
   "outputs": [],
   "source": [
    "import openai \n",
    "openai.api_key = "
   ]
  },
  {
   "cell_type": "code",
   "execution_count": 127,
   "id": "13618fba-1efa-46fb-9b1f-1cf06ff185d4",
   "metadata": {},
   "outputs": [],
   "source": [
    "import librosa \n",
    "import numpy as np \n",
    "import soundfile as sf\n",
    "from datetime import datetime \n",
    "\n",
    "class ssl:\n",
    "    \n",
    "    lab_name = 'Spartan Stuttering Lab'\n",
    "    \n",
    "    def __init__(self):\n",
    "        # Initialize instance variables\n",
    "        self.path = None\n",
    "        self.sr = None\n",
    "        self.y = None\n",
    "        self.total_time = None\n",
    "        self.step = None\n",
    "        self.audio_chunks = []  # Initialized as an empty list\n",
    "        self.chunk_paths = []\n",
    "\n",
    "    def load(self, path, duration = None, sr = None):\n",
    "        self.path = path\n",
    "        self.sr = sr \n",
    "        self.duration = duration\n",
    "        try:\n",
    "            self.y, self.sr = librosa.load(self.path, sr = self.sr, duration = self.duration)\n",
    "            print(f'\\nload: File is loaded\\n')\n",
    "        except FileNotFoundError:\n",
    "            print(f\"\\nError: The file {self.path} was not found.\")\n",
    "        \n",
    "            \n",
    "    def split_audio(self, contour = 2, buffer = 5):\n",
    "        self.contour = contour\n",
    "        self.buffer = buffer\n",
    "        \n",
    "        self.total_time = len(self.y)/self.sr\n",
    "        self.step = self.sr * contour * 60 # multiply by 60, if the contour is in minutes\n",
    "        \n",
    "        for i in range(0,len(self.y),self.step):\n",
    "            self.audio_chunks.append(self.y[i : i + self.step + (self.sr*self.buffer) ])  #add extra 5 seconds(buffer) for transcribe buffer\n",
    "        print(f'split_audio: audio is sucessfully splitted\\n')\n",
    "        \n",
    "    def save_audio_chunks(self, path_new = None):\n",
    "        if path_new:\n",
    "            self.path_new = path_new\n",
    "        else:\n",
    "            self.path_new = self.path.replace(self.path.split('/')[-1],'chunk_files - ' + self.path.split('/')[-1][:-4] +'/')\n",
    "        \n",
    "        try :\n",
    "            os.makedirs(self.path_new)\n",
    "        except FileExistsError:\n",
    "            pass\n",
    "        \n",
    "        for i, x in enumerate(self.audio_chunks):\n",
    "            self.chunk_name = f'{i}___{self.path.split('/')[-1]}'\n",
    "            sf.write(self.path_new + self.chunk_name , x, self.sr)\n",
    "            self.chunk_paths.append(self.path_new + self.chunk_name)\n",
    "        print(f'save_audio_chunks : chunked audio files are successfully saved\\n')\n",
    "    \n",
    "    def transcribe(self,audioArray):\n",
    "        try:\n",
    "            transcript = openai.Audio.transcribe(\n",
    "                                                file = open(audioArray, \"rb\"),\n",
    "                                                model = \"whisper-1\",\n",
    "                                                response_format=\"text\",\n",
    "                                                language=\"en\",\n",
    "                                                timesteps=True,\n",
    "                                                # user=\"messi\"\n",
    "                                                )\n",
    "            return transcript\n",
    "        except e as exception:\n",
    "            print(f'Error transcribing {audioArray}: {e} \\n' * 10)\n",
    "            print(f'\\n\\n')\n",
    "            return e\n",
    "        \n",
    "    def transcribe_batch(self):\n",
    "        self.text_list = []\n",
    "        \n",
    "        for i, x in enumerate(self.chunk_paths):\n",
    "            self.transcript = self.transcribe(x)\n",
    "            self.text_list.append(self.transcript)\n",
    "            print(f'                {i+1}/{len(self.chunk_paths)} is completed - Progress : {round((i+1)/len(self.chunk_paths),3)*100} % ')\n",
    "        self.final_text = ''\n",
    "        \n",
    "        for i, y in enumerate(self.text_list):\n",
    "            self.final_text += '\\n\\n' + f'{i* self.contour} - {i* self.contour + self.contour} mins ' + '\\n\\n ' + y.strip()\n",
    "        print(f'transcribe_batch: batch is sucessfully transcribed \\n')\n",
    "    \n",
    "    def save_output(self, path_save = None):\n",
    "        if path_save is not None :\n",
    "            if path_save[-4:] == '.txt':\n",
    "                self.path_save = path_save\n",
    "            else:\n",
    "                print('save output : wrong path provided. A text file is expected')\n",
    "                return \n",
    "        else:\n",
    "            self.path_save = self.path.replace(self.path.split('/')[-1],self.path.split('/')[-1].split('.')[0]+'.txt')\n",
    "        \n",
    "        with open(self.path_save,'w') as f:\n",
    "            f.write(self.final_text)\n",
    "        print(f'save_output: the output is successfully saved in \\n {self.path_save} \\n')\n",
    "\n",
    "    def run_all(self, path):\n",
    "        self.path = path\n",
    "        self.load(path, duration = None)\n",
    "        self.split_audio(contour = 2)\n",
    "        self.save_audio_chunks()\n",
    "        self.transcribe_batch()\n",
    "        self.save_output()\n",
    "        \n",
    "    pass"
   ]
  },
  {
   "cell_type": "code",
   "execution_count": 124,
   "id": "9110a481-dfbc-458c-b9da-2f76f9915921",
   "metadata": {},
   "outputs": [
    {
     "name": "stdout",
     "output_type": "stream",
     "text": [
      "CPU times: user 4 μs, sys: 12 μs, total: 16 μs\n",
      "Wall time: 42 μs\n",
      "\n",
      "load: File is loaded\n",
      "\n",
      "split_audio: audio is sucessfully splitted\n",
      "\n",
      "save_audio_chunks : chunked audio files are successfully saved\n",
      "\n",
      "                1/1 is completed - Progress : 100.0 % \n",
      "transcribe_batch: batch is sucessfully transcribed \n",
      "\n",
      "save_output: the output is successfully saved in \n",
      " /Users/sivaguganjayachandran/Documents/Spartan stuttering lab/103/240418_1454/240418_1454_EDITED 2.txt \n",
      "\n"
     ]
    }
   ],
   "source": [
    "%time\n",
    "\n",
    "path = 'EDITED 2.wav'\n",
    "\n",
    "messi = ssl()\n",
    "\n",
    "messi.load(path, duration = None)\n",
    "messi.split_audio(contour = 2)\n",
    "messi.save_audio_chunks()\n",
    "messi.transcribe_batch()\n",
    "messi.save_output()"
   ]
  },
  {
   "cell_type": "code",
   "execution_count": 130,
   "id": "b5cac221-a989-461d-b75a-e36c5be2ccd9",
   "metadata": {},
   "outputs": [
    {
     "data": {
      "text/plain": [
       "\"\\nimport os \\npath_1 = ''\\n\\ndir_path = [x for x in os.listdir(path_1) if os.path.isdir(path_1 + '/' + x)]\\npath_list = []\\n\\nfor i in dir_path:\\n    for j in  os.listdir(path_1 + '/' + i):\\n        if j[-10:] == 'EDITED.wav':\\n            path_list.append(path_1 + '/' + i + '/' + j)\\n\\npath_list = sorted(path_list)\\npath_list\\n\""
      ]
     },
     "execution_count": 130,
     "metadata": {},
     "output_type": "execute_result"
    }
   ],
   "source": [
    "'''\n",
    "import os \n",
    "path_1 = ''\n",
    "\n",
    "dir_path = [x for x in os.listdir(path_1) if os.path.isdir(path_1 + '/' + x)]\n",
    "path_list = []\n",
    "\n",
    "for i in dir_path:\n",
    "    for j in  os.listdir(path_1 + '/' + i):\n",
    "        if j[-10:] == 'EDITED.wav':\n",
    "            path_list.append(path_1 + '/' + i + '/' + j)\n",
    "\n",
    "path_list = sorted(path_list)\n",
    "path_list\n",
    "'''"
   ]
  },
  {
   "cell_type": "code",
   "execution_count": null,
   "id": "fa664c5a-6937-46cb-9be4-2dbe11d1c596",
   "metadata": {},
   "outputs": [],
   "source": []
  },
  {
   "cell_type": "code",
   "execution_count": null,
   "id": "61e729fd-d309-45d8-b508-918f3b1795e2",
   "metadata": {},
   "outputs": [],
   "source": []
  },
  {
   "cell_type": "code",
   "execution_count": null,
   "id": "87a6456c-d948-4a43-8cdd-3b28cf968fd4",
   "metadata": {},
   "outputs": [],
   "source": []
  }
 ],
 "metadata": {
  "kernelspec": {
   "display_name": "Python 3 (ipykernel)",
   "language": "python",
   "name": "python3"
  },
  "language_info": {
   "codemirror_mode": {
    "name": "ipython",
    "version": 3
   },
   "file_extension": ".py",
   "mimetype": "text/x-python",
   "name": "python",
   "nbconvert_exporter": "python",
   "pygments_lexer": "ipython3",
   "version": "3.12.4"
  }
 },
 "nbformat": 4,
 "nbformat_minor": 5
}
